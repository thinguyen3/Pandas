{
  "nbformat": 4,
  "nbformat_minor": 0,
  "metadata": {
    "kernelspec": {
      "display_name": "Python 3",
      "language": "python",
      "name": "python3"
    },
    "language_info": {
      "codemirror_mode": {
        "name": "ipython",
        "version": 3
      },
      "file_extension": ".py",
      "mimetype": "text/x-python",
      "name": "python",
      "nbconvert_exporter": "python",
      "pygments_lexer": "ipython3",
      "version": "3.7.7"
    },
    "colab": {
      "name": "Draft2FINC_514_Assignment1__Thi_Diem_My_Nguyen.ipynb",
      "provenance": [],
      "collapsed_sections": []
    }
  },
  "cells": [
    {
      "cell_type": "markdown",
      "metadata": {
        "id": "IkiM2j_XYpux"
      },
      "source": [
        "## All questions of assignments are summarized below. "
      ]
    },
    {
      "cell_type": "markdown",
      "metadata": {
        "id": "njI6iXZvYpu5"
      },
      "source": [
        "#### Task 1: Basic Python operations"
      ]
    },
    {
      "cell_type": "markdown",
      "metadata": {
        "id": "ApjTKQw_Ypu6"
      },
      "source": [
        "1.1 Read the data file into Python as a pandas data frame"
      ]
    },
    {
      "cell_type": "code",
      "metadata": {
        "colab": {
          "base_uri": "https://localhost:8080/"
        },
        "id": "FDE_6YDc41xN",
        "outputId": "50260eda-9ab5-4877-b743-ed060b6127c0"
      },
      "source": [
        "from google.colab import drive\n",
        "drive.mount('/content/drive')"
      ],
      "execution_count": 6,
      "outputs": [
        {
          "output_type": "stream",
          "text": [
            "Drive already mounted at /content/drive; to attempt to forcibly remount, call drive.mount(\"/content/drive\", force_remount=True).\n"
          ],
          "name": "stdout"
        }
      ]
    },
    {
      "cell_type": "code",
      "metadata": {
        "colab": {
          "base_uri": "https://localhost:8080/"
        },
        "id": "7E8h_tXhbZlv",
        "outputId": "b5aea902-28d0-48ba-c12f-2483e82acaa8"
      },
      "source": [
        "# Import a package and read data\r\n",
        "import pandas\r\n",
        "import pandas as pd\r\n",
        "dat = pd.read_csv('/content/drive/MyDrive/train.csv')\r\n",
        "# Print the data frame\r\n",
        "print(dat)"
      ],
      "execution_count": 7,
      "outputs": [
        {
          "output_type": "stream",
          "text": [
            "     PassengerId  Survived  Pclass  ...     Fare Cabin  Embarked\n",
            "0              1         0       3  ...   7.2500   NaN         S\n",
            "1              2         1       1  ...  71.2833   C85         C\n",
            "2              3         1       3  ...   7.9250   NaN         S\n",
            "3              4         1       1  ...  53.1000  C123         S\n",
            "4              5         0       3  ...   8.0500   NaN         S\n",
            "..           ...       ...     ...  ...      ...   ...       ...\n",
            "886          887         0       2  ...  13.0000   NaN         S\n",
            "887          888         1       1  ...  30.0000   B42         S\n",
            "888          889         0       3  ...  23.4500   NaN         S\n",
            "889          890         1       1  ...  30.0000  C148         C\n",
            "890          891         0       3  ...   7.7500   NaN         Q\n",
            "\n",
            "[891 rows x 12 columns]\n"
          ],
          "name": "stdout"
        }
      ]
    },
    {
      "cell_type": "markdown",
      "metadata": {
        "id": "D7yzcqlHYpu7"
      },
      "source": [
        "1.2 Print the top 5 rows from the dataset\n"
      ]
    },
    {
      "cell_type": "code",
      "metadata": {
        "colab": {
          "base_uri": "https://localhost:8080/"
        },
        "id": "cMDYVPRNg-uC",
        "outputId": "f96257c9-92a4-45f7-f43d-4f45fd09e346"
      },
      "source": [
        "# Print the top 5 rows from the dataset\r\n",
        "data = dat.head()\r\n",
        "print(data)"
      ],
      "execution_count": 8,
      "outputs": [
        {
          "output_type": "stream",
          "text": [
            "   PassengerId  Survived  Pclass  ...     Fare Cabin  Embarked\n",
            "0            1         0       3  ...   7.2500   NaN         S\n",
            "1            2         1       1  ...  71.2833   C85         C\n",
            "2            3         1       3  ...   7.9250   NaN         S\n",
            "3            4         1       1  ...  53.1000  C123         S\n",
            "4            5         0       3  ...   8.0500   NaN         S\n",
            "\n",
            "[5 rows x 12 columns]\n"
          ],
          "name": "stdout"
        }
      ]
    },
    {
      "cell_type": "markdown",
      "metadata": {
        "id": "b4EBYUgzYpu8"
      },
      "source": [
        "1.3 Print selected columns (survived, pclass, sex, cabin)\n"
      ]
    },
    {
      "cell_type": "code",
      "metadata": {
        "colab": {
          "base_uri": "https://localhost:8080/"
        },
        "id": "0PxCtktci1QN",
        "outputId": "4bbb6214-131d-418e-cb14-abe0767aa4b4"
      },
      "source": [
        "# Print columns Survived, Pclass, Sex, Cabin\r\n",
        "data = dat[['Survived', 'Pclass', 'Sex', 'Cabin']]\r\n",
        "print(data)"
      ],
      "execution_count": 38,
      "outputs": [
        {
          "output_type": "stream",
          "text": [
            "     Survived  Pclass     Sex Cabin\n",
            "0           0       3    male   NaN\n",
            "1           1       1  female   C85\n",
            "2           1       3  female   NaN\n",
            "3           1       1  female  C123\n",
            "4           0       3    male   NaN\n",
            "..        ...     ...     ...   ...\n",
            "886         0       2    male   NaN\n",
            "887         1       1  female   B42\n",
            "888         0       3  female   NaN\n",
            "889         1       1    male  C148\n",
            "890         0       3    male   NaN\n",
            "\n",
            "[891 rows x 4 columns]\n"
          ],
          "name": "stdout"
        }
      ]
    },
    {
      "cell_type": "markdown",
      "metadata": {
        "id": "5esRtECxYpu8"
      },
      "source": [
        "1.4 Print survived people who are older than 50 or in the upper socio-economic status (pclass is 1). \n"
      ]
    },
    {
      "cell_type": "code",
      "metadata": {
        "colab": {
          "base_uri": "https://localhost:8080/"
        },
        "id": "vS9eN8KNjdPt",
        "outputId": "d32a1a8b-deef-4741-e0e3-0a004ada3e5a"
      },
      "source": [
        "# Print survived people who are older than 50 or in the upper socio-economic status\r\n",
        "data = dat[(dat['Survived'] == 1) & ((dat['Age'] > 50) | (dat['Pclass'] == 1))]\r\n",
        "print(data)"
      ],
      "execution_count": 39,
      "outputs": [
        {
          "output_type": "stream",
          "text": [
            "     PassengerId  Survived  Pclass  ...     Fare Cabin  Embarked\n",
            "1              2         1       1  ...  71.2833   C85         C\n",
            "3              4         1       1  ...  53.1000  C123         S\n",
            "11            12         1       1  ...  26.5500  C103         S\n",
            "15            16         1       2  ...  16.0000   NaN         S\n",
            "23            24         1       1  ...  35.5000    A6         S\n",
            "..           ...       ...     ...  ...      ...   ...       ...\n",
            "862          863         1       1  ...  25.9292   D17         S\n",
            "871          872         1       1  ...  52.5542   D35         S\n",
            "879          880         1       1  ...  83.1583   C50         C\n",
            "887          888         1       1  ...  30.0000   B42         S\n",
            "889          890         1       1  ...  30.0000  C148         C\n",
            "\n",
            "[140 rows x 12 columns]\n"
          ],
          "name": "stdout"
        }
      ]
    },
    {
      "cell_type": "markdown",
      "metadata": {
        "id": "HkQKZwsvYpu8"
      },
      "source": [
        "-----------------"
      ]
    },
    {
      "cell_type": "markdown",
      "metadata": {
        "id": "8anrCRqCYpu9"
      },
      "source": [
        "#### Task 2: Data cleansing and summary"
      ]
    },
    {
      "cell_type": "markdown",
      "metadata": {
        "id": "xoZGRCXUYpu9"
      },
      "source": [
        "2.1 Data variable type description\n",
        "\n",
        "Please describe the data type for each variable in the dataset - whether it is a qualitative or quantitative variable. If you think the variable is quantitative, please indicate whether it is categorical or numerical variable."
      ]
    },
    {
      "cell_type": "markdown",
      "metadata": {
        "id": "YKvMTw6p7TAf"
      },
      "source": [
        "Qualitative variables: PassengerID, Name\r\n",
        "\r\n",
        "\r\n",
        "Quantitative variables_Categorical variables: Survived, Pclass, Sex, Ticket, Cabin, Embarked, Sibsp, Parch\r\n",
        "\r\n",
        "\r\n",
        "Quantitative variables_Numerical variables: Age, Fare\r\n"
      ]
    },
    {
      "cell_type": "markdown",
      "metadata": {
        "id": "HZcsNhDrYpu-"
      },
      "source": [
        "2.2 Assume we want to run analysis on variables: Survived, Pclass, Sex, Age, Fare, Embarked.\n"
      ]
    },
    {
      "cell_type": "markdown",
      "metadata": {
        "id": "SjjhbXkNYpu-"
      },
      "source": [
        "2.2.1 Please create a subset of data which only contains selected variables. \n"
      ]
    },
    {
      "cell_type": "code",
      "metadata": {
        "colab": {
          "base_uri": "https://localhost:8080/"
        },
        "id": "9L3UNofC_vQs",
        "outputId": "effe49cb-6080-4f2b-d529-f9afc5ac701f"
      },
      "source": [
        "# Create a subset to store 6 columns' information. \r\n",
        "subset = dat[['Survived', 'Pclass', 'Sex', 'Age', 'Fare', 'Embarked']]\r\n",
        "\r\n",
        "# and print it\r\n",
        "print(subset)"
      ],
      "execution_count": 40,
      "outputs": [
        {
          "output_type": "stream",
          "text": [
            "     Survived  Pclass     Sex   Age     Fare Embarked\n",
            "0           0       3    male  22.0   7.2500        S\n",
            "1           1       1  female  38.0  71.2833        C\n",
            "2           1       3  female  26.0   7.9250        S\n",
            "3           1       1  female  35.0  53.1000        S\n",
            "4           0       3    male  35.0   8.0500        S\n",
            "..        ...     ...     ...   ...      ...      ...\n",
            "886         0       2    male  27.0  13.0000        S\n",
            "887         1       1  female  19.0  30.0000        S\n",
            "888         0       3  female   NaN  23.4500        S\n",
            "889         1       1    male  26.0  30.0000        C\n",
            "890         0       3    male  32.0   7.7500        Q\n",
            "\n",
            "[891 rows x 6 columns]\n"
          ],
          "name": "stdout"
        }
      ]
    },
    {
      "cell_type": "markdown",
      "metadata": {
        "id": "gyQyFAOcYpu-"
      },
      "source": [
        "2.2.2 Use Python code to check whether any variable has missing value. "
      ]
    },
    {
      "cell_type": "code",
      "metadata": {
        "colab": {
          "base_uri": "https://localhost:8080/"
        },
        "id": "daQixXsaANNZ",
        "outputId": "16fa2586-6d07-42c4-f919-d6fbafa5a7d6"
      },
      "source": [
        "# Checking whether any variable has missing value. \r\n",
        "# .count() function will help to check number of non-missing values in each column. \r\n",
        "# If the value is smaller than the number of rows, the column has missing value.\r\n",
        "# So Age and Embarked variable have missing value\r\n",
        "subset.count()"
      ],
      "execution_count": 41,
      "outputs": [
        {
          "output_type": "execute_result",
          "data": {
            "text/plain": [
              "Survived    891\n",
              "Pclass      891\n",
              "Sex         891\n",
              "Age         714\n",
              "Fare        891\n",
              "Embarked    889\n",
              "dtype: int64"
            ]
          },
          "metadata": {
            "tags": []
          },
          "execution_count": 41
        }
      ]
    },
    {
      "cell_type": "markdown",
      "metadata": {
        "id": "qciH8L3AYpu_"
      },
      "source": [
        "2.2.3 Please clean the dataset by either removing or replacing missing value."
      ]
    },
    {
      "cell_type": "code",
      "metadata": {
        "colab": {
          "base_uri": "https://localhost:8080/",
          "height": 407
        },
        "id": "w3_AciJVG6JK",
        "outputId": "18cb5c1e-b29d-4e4a-b114-00a24d0765b0"
      },
      "source": [
        "# Remove missing value\r\n",
        "\"\"\"Delete missing value\"\"\"\r\n",
        "# Drop all rows with missing values\r\n",
        "subset_new=subset.dropna()\r\n",
        "subset_new\r\n"
      ],
      "execution_count": 42,
      "outputs": [
        {
          "output_type": "execute_result",
          "data": {
            "text/html": [
              "<div>\n",
              "<style scoped>\n",
              "    .dataframe tbody tr th:only-of-type {\n",
              "        vertical-align: middle;\n",
              "    }\n",
              "\n",
              "    .dataframe tbody tr th {\n",
              "        vertical-align: top;\n",
              "    }\n",
              "\n",
              "    .dataframe thead th {\n",
              "        text-align: right;\n",
              "    }\n",
              "</style>\n",
              "<table border=\"1\" class=\"dataframe\">\n",
              "  <thead>\n",
              "    <tr style=\"text-align: right;\">\n",
              "      <th></th>\n",
              "      <th>Survived</th>\n",
              "      <th>Pclass</th>\n",
              "      <th>Sex</th>\n",
              "      <th>Age</th>\n",
              "      <th>Fare</th>\n",
              "      <th>Embarked</th>\n",
              "    </tr>\n",
              "  </thead>\n",
              "  <tbody>\n",
              "    <tr>\n",
              "      <th>0</th>\n",
              "      <td>0</td>\n",
              "      <td>3</td>\n",
              "      <td>male</td>\n",
              "      <td>22.0</td>\n",
              "      <td>7.2500</td>\n",
              "      <td>S</td>\n",
              "    </tr>\n",
              "    <tr>\n",
              "      <th>1</th>\n",
              "      <td>1</td>\n",
              "      <td>1</td>\n",
              "      <td>female</td>\n",
              "      <td>38.0</td>\n",
              "      <td>71.2833</td>\n",
              "      <td>C</td>\n",
              "    </tr>\n",
              "    <tr>\n",
              "      <th>2</th>\n",
              "      <td>1</td>\n",
              "      <td>3</td>\n",
              "      <td>female</td>\n",
              "      <td>26.0</td>\n",
              "      <td>7.9250</td>\n",
              "      <td>S</td>\n",
              "    </tr>\n",
              "    <tr>\n",
              "      <th>3</th>\n",
              "      <td>1</td>\n",
              "      <td>1</td>\n",
              "      <td>female</td>\n",
              "      <td>35.0</td>\n",
              "      <td>53.1000</td>\n",
              "      <td>S</td>\n",
              "    </tr>\n",
              "    <tr>\n",
              "      <th>4</th>\n",
              "      <td>0</td>\n",
              "      <td>3</td>\n",
              "      <td>male</td>\n",
              "      <td>35.0</td>\n",
              "      <td>8.0500</td>\n",
              "      <td>S</td>\n",
              "    </tr>\n",
              "    <tr>\n",
              "      <th>...</th>\n",
              "      <td>...</td>\n",
              "      <td>...</td>\n",
              "      <td>...</td>\n",
              "      <td>...</td>\n",
              "      <td>...</td>\n",
              "      <td>...</td>\n",
              "    </tr>\n",
              "    <tr>\n",
              "      <th>885</th>\n",
              "      <td>0</td>\n",
              "      <td>3</td>\n",
              "      <td>female</td>\n",
              "      <td>39.0</td>\n",
              "      <td>29.1250</td>\n",
              "      <td>Q</td>\n",
              "    </tr>\n",
              "    <tr>\n",
              "      <th>886</th>\n",
              "      <td>0</td>\n",
              "      <td>2</td>\n",
              "      <td>male</td>\n",
              "      <td>27.0</td>\n",
              "      <td>13.0000</td>\n",
              "      <td>S</td>\n",
              "    </tr>\n",
              "    <tr>\n",
              "      <th>887</th>\n",
              "      <td>1</td>\n",
              "      <td>1</td>\n",
              "      <td>female</td>\n",
              "      <td>19.0</td>\n",
              "      <td>30.0000</td>\n",
              "      <td>S</td>\n",
              "    </tr>\n",
              "    <tr>\n",
              "      <th>889</th>\n",
              "      <td>1</td>\n",
              "      <td>1</td>\n",
              "      <td>male</td>\n",
              "      <td>26.0</td>\n",
              "      <td>30.0000</td>\n",
              "      <td>C</td>\n",
              "    </tr>\n",
              "    <tr>\n",
              "      <th>890</th>\n",
              "      <td>0</td>\n",
              "      <td>3</td>\n",
              "      <td>male</td>\n",
              "      <td>32.0</td>\n",
              "      <td>7.7500</td>\n",
              "      <td>Q</td>\n",
              "    </tr>\n",
              "  </tbody>\n",
              "</table>\n",
              "<p>712 rows × 6 columns</p>\n",
              "</div>"
            ],
            "text/plain": [
              "     Survived  Pclass     Sex   Age     Fare Embarked\n",
              "0           0       3    male  22.0   7.2500        S\n",
              "1           1       1  female  38.0  71.2833        C\n",
              "2           1       3  female  26.0   7.9250        S\n",
              "3           1       1  female  35.0  53.1000        S\n",
              "4           0       3    male  35.0   8.0500        S\n",
              "..        ...     ...     ...   ...      ...      ...\n",
              "885         0       3  female  39.0  29.1250        Q\n",
              "886         0       2    male  27.0  13.0000        S\n",
              "887         1       1  female  19.0  30.0000        S\n",
              "889         1       1    male  26.0  30.0000        C\n",
              "890         0       3    male  32.0   7.7500        Q\n",
              "\n",
              "[712 rows x 6 columns]"
            ]
          },
          "metadata": {
            "tags": []
          },
          "execution_count": 42
        }
      ]
    },
    {
      "cell_type": "markdown",
      "metadata": {
        "id": "c6v-D-lxYpu_"
      },
      "source": [
        "2.2.4 If you identify any categorical variable(s), please use one-hot encoding to convert the variables. "
      ]
    },
    {
      "cell_type": "code",
      "metadata": {
        "colab": {
          "base_uri": "https://localhost:8080/",
          "height": 407
        },
        "id": "j53knpjaZBJa",
        "outputId": "69ab2193-c6d8-4548-fc08-ccb9151214e6"
      },
      "source": [
        "# Convert 'Survived' column into dummies\r\n",
        "Survived_dummy = pd.get_dummies(subset_new['Survived'], prefix = 'Survived')\r\n",
        "Survived_dummy"
      ],
      "execution_count": 43,
      "outputs": [
        {
          "output_type": "execute_result",
          "data": {
            "text/html": [
              "<div>\n",
              "<style scoped>\n",
              "    .dataframe tbody tr th:only-of-type {\n",
              "        vertical-align: middle;\n",
              "    }\n",
              "\n",
              "    .dataframe tbody tr th {\n",
              "        vertical-align: top;\n",
              "    }\n",
              "\n",
              "    .dataframe thead th {\n",
              "        text-align: right;\n",
              "    }\n",
              "</style>\n",
              "<table border=\"1\" class=\"dataframe\">\n",
              "  <thead>\n",
              "    <tr style=\"text-align: right;\">\n",
              "      <th></th>\n",
              "      <th>Survived_0</th>\n",
              "      <th>Survived_1</th>\n",
              "    </tr>\n",
              "  </thead>\n",
              "  <tbody>\n",
              "    <tr>\n",
              "      <th>0</th>\n",
              "      <td>1</td>\n",
              "      <td>0</td>\n",
              "    </tr>\n",
              "    <tr>\n",
              "      <th>1</th>\n",
              "      <td>0</td>\n",
              "      <td>1</td>\n",
              "    </tr>\n",
              "    <tr>\n",
              "      <th>2</th>\n",
              "      <td>0</td>\n",
              "      <td>1</td>\n",
              "    </tr>\n",
              "    <tr>\n",
              "      <th>3</th>\n",
              "      <td>0</td>\n",
              "      <td>1</td>\n",
              "    </tr>\n",
              "    <tr>\n",
              "      <th>4</th>\n",
              "      <td>1</td>\n",
              "      <td>0</td>\n",
              "    </tr>\n",
              "    <tr>\n",
              "      <th>...</th>\n",
              "      <td>...</td>\n",
              "      <td>...</td>\n",
              "    </tr>\n",
              "    <tr>\n",
              "      <th>885</th>\n",
              "      <td>1</td>\n",
              "      <td>0</td>\n",
              "    </tr>\n",
              "    <tr>\n",
              "      <th>886</th>\n",
              "      <td>1</td>\n",
              "      <td>0</td>\n",
              "    </tr>\n",
              "    <tr>\n",
              "      <th>887</th>\n",
              "      <td>0</td>\n",
              "      <td>1</td>\n",
              "    </tr>\n",
              "    <tr>\n",
              "      <th>889</th>\n",
              "      <td>0</td>\n",
              "      <td>1</td>\n",
              "    </tr>\n",
              "    <tr>\n",
              "      <th>890</th>\n",
              "      <td>1</td>\n",
              "      <td>0</td>\n",
              "    </tr>\n",
              "  </tbody>\n",
              "</table>\n",
              "<p>712 rows × 2 columns</p>\n",
              "</div>"
            ],
            "text/plain": [
              "     Survived_0  Survived_1\n",
              "0             1           0\n",
              "1             0           1\n",
              "2             0           1\n",
              "3             0           1\n",
              "4             1           0\n",
              "..          ...         ...\n",
              "885           1           0\n",
              "886           1           0\n",
              "887           0           1\n",
              "889           0           1\n",
              "890           1           0\n",
              "\n",
              "[712 rows x 2 columns]"
            ]
          },
          "metadata": {
            "tags": []
          },
          "execution_count": 43
        }
      ]
    },
    {
      "cell_type": "code",
      "metadata": {
        "colab": {
          "base_uri": "https://localhost:8080/",
          "height": 407
        },
        "id": "_egfilhAYVBL",
        "outputId": "60842fff-037f-4ae6-e2d5-8f68a2199c69"
      },
      "source": [
        "# Convert 'Pclass' column into dummies\r\n",
        "Pclass_dummy = pd.get_dummies(subset_new['Pclass'], prefix = 'Pclass')\r\n",
        "Pclass_dummy"
      ],
      "execution_count": 44,
      "outputs": [
        {
          "output_type": "execute_result",
          "data": {
            "text/html": [
              "<div>\n",
              "<style scoped>\n",
              "    .dataframe tbody tr th:only-of-type {\n",
              "        vertical-align: middle;\n",
              "    }\n",
              "\n",
              "    .dataframe tbody tr th {\n",
              "        vertical-align: top;\n",
              "    }\n",
              "\n",
              "    .dataframe thead th {\n",
              "        text-align: right;\n",
              "    }\n",
              "</style>\n",
              "<table border=\"1\" class=\"dataframe\">\n",
              "  <thead>\n",
              "    <tr style=\"text-align: right;\">\n",
              "      <th></th>\n",
              "      <th>Pclass_1</th>\n",
              "      <th>Pclass_2</th>\n",
              "      <th>Pclass_3</th>\n",
              "    </tr>\n",
              "  </thead>\n",
              "  <tbody>\n",
              "    <tr>\n",
              "      <th>0</th>\n",
              "      <td>0</td>\n",
              "      <td>0</td>\n",
              "      <td>1</td>\n",
              "    </tr>\n",
              "    <tr>\n",
              "      <th>1</th>\n",
              "      <td>1</td>\n",
              "      <td>0</td>\n",
              "      <td>0</td>\n",
              "    </tr>\n",
              "    <tr>\n",
              "      <th>2</th>\n",
              "      <td>0</td>\n",
              "      <td>0</td>\n",
              "      <td>1</td>\n",
              "    </tr>\n",
              "    <tr>\n",
              "      <th>3</th>\n",
              "      <td>1</td>\n",
              "      <td>0</td>\n",
              "      <td>0</td>\n",
              "    </tr>\n",
              "    <tr>\n",
              "      <th>4</th>\n",
              "      <td>0</td>\n",
              "      <td>0</td>\n",
              "      <td>1</td>\n",
              "    </tr>\n",
              "    <tr>\n",
              "      <th>...</th>\n",
              "      <td>...</td>\n",
              "      <td>...</td>\n",
              "      <td>...</td>\n",
              "    </tr>\n",
              "    <tr>\n",
              "      <th>885</th>\n",
              "      <td>0</td>\n",
              "      <td>0</td>\n",
              "      <td>1</td>\n",
              "    </tr>\n",
              "    <tr>\n",
              "      <th>886</th>\n",
              "      <td>0</td>\n",
              "      <td>1</td>\n",
              "      <td>0</td>\n",
              "    </tr>\n",
              "    <tr>\n",
              "      <th>887</th>\n",
              "      <td>1</td>\n",
              "      <td>0</td>\n",
              "      <td>0</td>\n",
              "    </tr>\n",
              "    <tr>\n",
              "      <th>889</th>\n",
              "      <td>1</td>\n",
              "      <td>0</td>\n",
              "      <td>0</td>\n",
              "    </tr>\n",
              "    <tr>\n",
              "      <th>890</th>\n",
              "      <td>0</td>\n",
              "      <td>0</td>\n",
              "      <td>1</td>\n",
              "    </tr>\n",
              "  </tbody>\n",
              "</table>\n",
              "<p>712 rows × 3 columns</p>\n",
              "</div>"
            ],
            "text/plain": [
              "     Pclass_1  Pclass_2  Pclass_3\n",
              "0           0         0         1\n",
              "1           1         0         0\n",
              "2           0         0         1\n",
              "3           1         0         0\n",
              "4           0         0         1\n",
              "..        ...       ...       ...\n",
              "885         0         0         1\n",
              "886         0         1         0\n",
              "887         1         0         0\n",
              "889         1         0         0\n",
              "890         0         0         1\n",
              "\n",
              "[712 rows x 3 columns]"
            ]
          },
          "metadata": {
            "tags": []
          },
          "execution_count": 44
        }
      ]
    },
    {
      "cell_type": "code",
      "metadata": {
        "colab": {
          "base_uri": "https://localhost:8080/",
          "height": 407
        },
        "id": "steJUTsK7BqJ",
        "outputId": "81ca80a9-4fbc-4e6c-f498-ec3d97e6cc9a"
      },
      "source": [
        "# Convert 'Sex' column into dummies\r\n",
        "Sex_dummy = pd.get_dummies(subset_new['Sex'], prefix = 'Sex')\r\n",
        "Sex_dummy"
      ],
      "execution_count": 45,
      "outputs": [
        {
          "output_type": "execute_result",
          "data": {
            "text/html": [
              "<div>\n",
              "<style scoped>\n",
              "    .dataframe tbody tr th:only-of-type {\n",
              "        vertical-align: middle;\n",
              "    }\n",
              "\n",
              "    .dataframe tbody tr th {\n",
              "        vertical-align: top;\n",
              "    }\n",
              "\n",
              "    .dataframe thead th {\n",
              "        text-align: right;\n",
              "    }\n",
              "</style>\n",
              "<table border=\"1\" class=\"dataframe\">\n",
              "  <thead>\n",
              "    <tr style=\"text-align: right;\">\n",
              "      <th></th>\n",
              "      <th>Sex_female</th>\n",
              "      <th>Sex_male</th>\n",
              "    </tr>\n",
              "  </thead>\n",
              "  <tbody>\n",
              "    <tr>\n",
              "      <th>0</th>\n",
              "      <td>0</td>\n",
              "      <td>1</td>\n",
              "    </tr>\n",
              "    <tr>\n",
              "      <th>1</th>\n",
              "      <td>1</td>\n",
              "      <td>0</td>\n",
              "    </tr>\n",
              "    <tr>\n",
              "      <th>2</th>\n",
              "      <td>1</td>\n",
              "      <td>0</td>\n",
              "    </tr>\n",
              "    <tr>\n",
              "      <th>3</th>\n",
              "      <td>1</td>\n",
              "      <td>0</td>\n",
              "    </tr>\n",
              "    <tr>\n",
              "      <th>4</th>\n",
              "      <td>0</td>\n",
              "      <td>1</td>\n",
              "    </tr>\n",
              "    <tr>\n",
              "      <th>...</th>\n",
              "      <td>...</td>\n",
              "      <td>...</td>\n",
              "    </tr>\n",
              "    <tr>\n",
              "      <th>885</th>\n",
              "      <td>1</td>\n",
              "      <td>0</td>\n",
              "    </tr>\n",
              "    <tr>\n",
              "      <th>886</th>\n",
              "      <td>0</td>\n",
              "      <td>1</td>\n",
              "    </tr>\n",
              "    <tr>\n",
              "      <th>887</th>\n",
              "      <td>1</td>\n",
              "      <td>0</td>\n",
              "    </tr>\n",
              "    <tr>\n",
              "      <th>889</th>\n",
              "      <td>0</td>\n",
              "      <td>1</td>\n",
              "    </tr>\n",
              "    <tr>\n",
              "      <th>890</th>\n",
              "      <td>0</td>\n",
              "      <td>1</td>\n",
              "    </tr>\n",
              "  </tbody>\n",
              "</table>\n",
              "<p>712 rows × 2 columns</p>\n",
              "</div>"
            ],
            "text/plain": [
              "     Sex_female  Sex_male\n",
              "0             0         1\n",
              "1             1         0\n",
              "2             1         0\n",
              "3             1         0\n",
              "4             0         1\n",
              "..          ...       ...\n",
              "885           1         0\n",
              "886           0         1\n",
              "887           1         0\n",
              "889           0         1\n",
              "890           0         1\n",
              "\n",
              "[712 rows x 2 columns]"
            ]
          },
          "metadata": {
            "tags": []
          },
          "execution_count": 45
        }
      ]
    },
    {
      "cell_type": "code",
      "metadata": {
        "colab": {
          "base_uri": "https://localhost:8080/",
          "height": 407
        },
        "id": "dloyMBHY7K_I",
        "outputId": "1476cd26-e1d3-4a24-d6a4-d08df642b32f"
      },
      "source": [
        "# Convert 'Embarked' column into dummies\r\n",
        "Embarked_dummy = pd.get_dummies(subset_new['Embarked'], prefix = 'Embarked')\r\n",
        "Embarked_dummy"
      ],
      "execution_count": 46,
      "outputs": [
        {
          "output_type": "execute_result",
          "data": {
            "text/html": [
              "<div>\n",
              "<style scoped>\n",
              "    .dataframe tbody tr th:only-of-type {\n",
              "        vertical-align: middle;\n",
              "    }\n",
              "\n",
              "    .dataframe tbody tr th {\n",
              "        vertical-align: top;\n",
              "    }\n",
              "\n",
              "    .dataframe thead th {\n",
              "        text-align: right;\n",
              "    }\n",
              "</style>\n",
              "<table border=\"1\" class=\"dataframe\">\n",
              "  <thead>\n",
              "    <tr style=\"text-align: right;\">\n",
              "      <th></th>\n",
              "      <th>Embarked_C</th>\n",
              "      <th>Embarked_Q</th>\n",
              "      <th>Embarked_S</th>\n",
              "    </tr>\n",
              "  </thead>\n",
              "  <tbody>\n",
              "    <tr>\n",
              "      <th>0</th>\n",
              "      <td>0</td>\n",
              "      <td>0</td>\n",
              "      <td>1</td>\n",
              "    </tr>\n",
              "    <tr>\n",
              "      <th>1</th>\n",
              "      <td>1</td>\n",
              "      <td>0</td>\n",
              "      <td>0</td>\n",
              "    </tr>\n",
              "    <tr>\n",
              "      <th>2</th>\n",
              "      <td>0</td>\n",
              "      <td>0</td>\n",
              "      <td>1</td>\n",
              "    </tr>\n",
              "    <tr>\n",
              "      <th>3</th>\n",
              "      <td>0</td>\n",
              "      <td>0</td>\n",
              "      <td>1</td>\n",
              "    </tr>\n",
              "    <tr>\n",
              "      <th>4</th>\n",
              "      <td>0</td>\n",
              "      <td>0</td>\n",
              "      <td>1</td>\n",
              "    </tr>\n",
              "    <tr>\n",
              "      <th>...</th>\n",
              "      <td>...</td>\n",
              "      <td>...</td>\n",
              "      <td>...</td>\n",
              "    </tr>\n",
              "    <tr>\n",
              "      <th>885</th>\n",
              "      <td>0</td>\n",
              "      <td>1</td>\n",
              "      <td>0</td>\n",
              "    </tr>\n",
              "    <tr>\n",
              "      <th>886</th>\n",
              "      <td>0</td>\n",
              "      <td>0</td>\n",
              "      <td>1</td>\n",
              "    </tr>\n",
              "    <tr>\n",
              "      <th>887</th>\n",
              "      <td>0</td>\n",
              "      <td>0</td>\n",
              "      <td>1</td>\n",
              "    </tr>\n",
              "    <tr>\n",
              "      <th>889</th>\n",
              "      <td>1</td>\n",
              "      <td>0</td>\n",
              "      <td>0</td>\n",
              "    </tr>\n",
              "    <tr>\n",
              "      <th>890</th>\n",
              "      <td>0</td>\n",
              "      <td>1</td>\n",
              "      <td>0</td>\n",
              "    </tr>\n",
              "  </tbody>\n",
              "</table>\n",
              "<p>712 rows × 3 columns</p>\n",
              "</div>"
            ],
            "text/plain": [
              "     Embarked_C  Embarked_Q  Embarked_S\n",
              "0             0           0           1\n",
              "1             1           0           0\n",
              "2             0           0           1\n",
              "3             0           0           1\n",
              "4             0           0           1\n",
              "..          ...         ...         ...\n",
              "885           0           1           0\n",
              "886           0           0           1\n",
              "887           0           0           1\n",
              "889           1           0           0\n",
              "890           0           1           0\n",
              "\n",
              "[712 rows x 3 columns]"
            ]
          },
          "metadata": {
            "tags": []
          },
          "execution_count": 46
        }
      ]
    },
    {
      "cell_type": "code",
      "metadata": {
        "id": "oBqduvO0Tmim",
        "colab": {
          "base_uri": "https://localhost:8080/",
          "height": 407
        },
        "outputId": "ff0dd66a-a1f6-41d6-832d-2a2534e780aa"
      },
      "source": [
        "# use concat() function to horizontally append them together. \r\n",
        "# By setting the axis = 1\r\n",
        "data_new = pd.concat([subset_new, Survived_dummy, Pclass_dummy, Sex_dummy, Embarked_dummy], axis = 1)\r\n",
        "data_new"
      ],
      "execution_count": 48,
      "outputs": [
        {
          "output_type": "execute_result",
          "data": {
            "text/html": [
              "<div>\n",
              "<style scoped>\n",
              "    .dataframe tbody tr th:only-of-type {\n",
              "        vertical-align: middle;\n",
              "    }\n",
              "\n",
              "    .dataframe tbody tr th {\n",
              "        vertical-align: top;\n",
              "    }\n",
              "\n",
              "    .dataframe thead th {\n",
              "        text-align: right;\n",
              "    }\n",
              "</style>\n",
              "<table border=\"1\" class=\"dataframe\">\n",
              "  <thead>\n",
              "    <tr style=\"text-align: right;\">\n",
              "      <th></th>\n",
              "      <th>Survived</th>\n",
              "      <th>Pclass</th>\n",
              "      <th>Sex</th>\n",
              "      <th>Age</th>\n",
              "      <th>Fare</th>\n",
              "      <th>Embarked</th>\n",
              "      <th>Survived_0</th>\n",
              "      <th>Survived_1</th>\n",
              "      <th>Pclass_1</th>\n",
              "      <th>Pclass_2</th>\n",
              "      <th>Pclass_3</th>\n",
              "      <th>Sex_female</th>\n",
              "      <th>Sex_male</th>\n",
              "      <th>Embarked_C</th>\n",
              "      <th>Embarked_Q</th>\n",
              "      <th>Embarked_S</th>\n",
              "    </tr>\n",
              "  </thead>\n",
              "  <tbody>\n",
              "    <tr>\n",
              "      <th>0</th>\n",
              "      <td>0</td>\n",
              "      <td>3</td>\n",
              "      <td>male</td>\n",
              "      <td>22.0</td>\n",
              "      <td>7.2500</td>\n",
              "      <td>S</td>\n",
              "      <td>1</td>\n",
              "      <td>0</td>\n",
              "      <td>0</td>\n",
              "      <td>0</td>\n",
              "      <td>1</td>\n",
              "      <td>0</td>\n",
              "      <td>1</td>\n",
              "      <td>0</td>\n",
              "      <td>0</td>\n",
              "      <td>1</td>\n",
              "    </tr>\n",
              "    <tr>\n",
              "      <th>1</th>\n",
              "      <td>1</td>\n",
              "      <td>1</td>\n",
              "      <td>female</td>\n",
              "      <td>38.0</td>\n",
              "      <td>71.2833</td>\n",
              "      <td>C</td>\n",
              "      <td>0</td>\n",
              "      <td>1</td>\n",
              "      <td>1</td>\n",
              "      <td>0</td>\n",
              "      <td>0</td>\n",
              "      <td>1</td>\n",
              "      <td>0</td>\n",
              "      <td>1</td>\n",
              "      <td>0</td>\n",
              "      <td>0</td>\n",
              "    </tr>\n",
              "    <tr>\n",
              "      <th>2</th>\n",
              "      <td>1</td>\n",
              "      <td>3</td>\n",
              "      <td>female</td>\n",
              "      <td>26.0</td>\n",
              "      <td>7.9250</td>\n",
              "      <td>S</td>\n",
              "      <td>0</td>\n",
              "      <td>1</td>\n",
              "      <td>0</td>\n",
              "      <td>0</td>\n",
              "      <td>1</td>\n",
              "      <td>1</td>\n",
              "      <td>0</td>\n",
              "      <td>0</td>\n",
              "      <td>0</td>\n",
              "      <td>1</td>\n",
              "    </tr>\n",
              "    <tr>\n",
              "      <th>3</th>\n",
              "      <td>1</td>\n",
              "      <td>1</td>\n",
              "      <td>female</td>\n",
              "      <td>35.0</td>\n",
              "      <td>53.1000</td>\n",
              "      <td>S</td>\n",
              "      <td>0</td>\n",
              "      <td>1</td>\n",
              "      <td>1</td>\n",
              "      <td>0</td>\n",
              "      <td>0</td>\n",
              "      <td>1</td>\n",
              "      <td>0</td>\n",
              "      <td>0</td>\n",
              "      <td>0</td>\n",
              "      <td>1</td>\n",
              "    </tr>\n",
              "    <tr>\n",
              "      <th>4</th>\n",
              "      <td>0</td>\n",
              "      <td>3</td>\n",
              "      <td>male</td>\n",
              "      <td>35.0</td>\n",
              "      <td>8.0500</td>\n",
              "      <td>S</td>\n",
              "      <td>1</td>\n",
              "      <td>0</td>\n",
              "      <td>0</td>\n",
              "      <td>0</td>\n",
              "      <td>1</td>\n",
              "      <td>0</td>\n",
              "      <td>1</td>\n",
              "      <td>0</td>\n",
              "      <td>0</td>\n",
              "      <td>1</td>\n",
              "    </tr>\n",
              "    <tr>\n",
              "      <th>...</th>\n",
              "      <td>...</td>\n",
              "      <td>...</td>\n",
              "      <td>...</td>\n",
              "      <td>...</td>\n",
              "      <td>...</td>\n",
              "      <td>...</td>\n",
              "      <td>...</td>\n",
              "      <td>...</td>\n",
              "      <td>...</td>\n",
              "      <td>...</td>\n",
              "      <td>...</td>\n",
              "      <td>...</td>\n",
              "      <td>...</td>\n",
              "      <td>...</td>\n",
              "      <td>...</td>\n",
              "      <td>...</td>\n",
              "    </tr>\n",
              "    <tr>\n",
              "      <th>885</th>\n",
              "      <td>0</td>\n",
              "      <td>3</td>\n",
              "      <td>female</td>\n",
              "      <td>39.0</td>\n",
              "      <td>29.1250</td>\n",
              "      <td>Q</td>\n",
              "      <td>1</td>\n",
              "      <td>0</td>\n",
              "      <td>0</td>\n",
              "      <td>0</td>\n",
              "      <td>1</td>\n",
              "      <td>1</td>\n",
              "      <td>0</td>\n",
              "      <td>0</td>\n",
              "      <td>1</td>\n",
              "      <td>0</td>\n",
              "    </tr>\n",
              "    <tr>\n",
              "      <th>886</th>\n",
              "      <td>0</td>\n",
              "      <td>2</td>\n",
              "      <td>male</td>\n",
              "      <td>27.0</td>\n",
              "      <td>13.0000</td>\n",
              "      <td>S</td>\n",
              "      <td>1</td>\n",
              "      <td>0</td>\n",
              "      <td>0</td>\n",
              "      <td>1</td>\n",
              "      <td>0</td>\n",
              "      <td>0</td>\n",
              "      <td>1</td>\n",
              "      <td>0</td>\n",
              "      <td>0</td>\n",
              "      <td>1</td>\n",
              "    </tr>\n",
              "    <tr>\n",
              "      <th>887</th>\n",
              "      <td>1</td>\n",
              "      <td>1</td>\n",
              "      <td>female</td>\n",
              "      <td>19.0</td>\n",
              "      <td>30.0000</td>\n",
              "      <td>S</td>\n",
              "      <td>0</td>\n",
              "      <td>1</td>\n",
              "      <td>1</td>\n",
              "      <td>0</td>\n",
              "      <td>0</td>\n",
              "      <td>1</td>\n",
              "      <td>0</td>\n",
              "      <td>0</td>\n",
              "      <td>0</td>\n",
              "      <td>1</td>\n",
              "    </tr>\n",
              "    <tr>\n",
              "      <th>889</th>\n",
              "      <td>1</td>\n",
              "      <td>1</td>\n",
              "      <td>male</td>\n",
              "      <td>26.0</td>\n",
              "      <td>30.0000</td>\n",
              "      <td>C</td>\n",
              "      <td>0</td>\n",
              "      <td>1</td>\n",
              "      <td>1</td>\n",
              "      <td>0</td>\n",
              "      <td>0</td>\n",
              "      <td>0</td>\n",
              "      <td>1</td>\n",
              "      <td>1</td>\n",
              "      <td>0</td>\n",
              "      <td>0</td>\n",
              "    </tr>\n",
              "    <tr>\n",
              "      <th>890</th>\n",
              "      <td>0</td>\n",
              "      <td>3</td>\n",
              "      <td>male</td>\n",
              "      <td>32.0</td>\n",
              "      <td>7.7500</td>\n",
              "      <td>Q</td>\n",
              "      <td>1</td>\n",
              "      <td>0</td>\n",
              "      <td>0</td>\n",
              "      <td>0</td>\n",
              "      <td>1</td>\n",
              "      <td>0</td>\n",
              "      <td>1</td>\n",
              "      <td>0</td>\n",
              "      <td>1</td>\n",
              "      <td>0</td>\n",
              "    </tr>\n",
              "  </tbody>\n",
              "</table>\n",
              "<p>712 rows × 16 columns</p>\n",
              "</div>"
            ],
            "text/plain": [
              "     Survived  Pclass     Sex  ...  Embarked_C  Embarked_Q Embarked_S\n",
              "0           0       3    male  ...           0           0          1\n",
              "1           1       1  female  ...           1           0          0\n",
              "2           1       3  female  ...           0           0          1\n",
              "3           1       1  female  ...           0           0          1\n",
              "4           0       3    male  ...           0           0          1\n",
              "..        ...     ...     ...  ...         ...         ...        ...\n",
              "885         0       3  female  ...           0           1          0\n",
              "886         0       2    male  ...           0           0          1\n",
              "887         1       1  female  ...           0           0          1\n",
              "889         1       1    male  ...           1           0          0\n",
              "890         0       3    male  ...           0           1          0\n",
              "\n",
              "[712 rows x 16 columns]"
            ]
          },
          "metadata": {
            "tags": []
          },
          "execution_count": 48
        }
      ]
    },
    {
      "cell_type": "markdown",
      "metadata": {
        "id": "quj_7hIDYpu_"
      },
      "source": [
        "2.2.5 At the end, please get the final dataset, which only contains selected variable and is well cleaned. "
      ]
    },
    {
      "cell_type": "code",
      "metadata": {
        "colab": {
          "base_uri": "https://localhost:8080/"
        },
        "id": "qypjbrVeR3yh",
        "outputId": "acd1f977-f4c3-4b65-c5b8-441de33cf7b1"
      },
      "source": [
        "print(data_new)\r\n",
        "# Idicate the number of observations in the dataset\r\n",
        "# We see in the output [712 rows x 16 columns], there are 712 rows so there are 712 observations in the dataset"
      ],
      "execution_count": 49,
      "outputs": [
        {
          "output_type": "stream",
          "text": [
            "     Survived  Pclass     Sex  ...  Embarked_C  Embarked_Q Embarked_S\n",
            "0           0       3    male  ...           0           0          1\n",
            "1           1       1  female  ...           1           0          0\n",
            "2           1       3  female  ...           0           0          1\n",
            "3           1       1  female  ...           0           0          1\n",
            "4           0       3    male  ...           0           0          1\n",
            "..        ...     ...     ...  ...         ...         ...        ...\n",
            "885         0       3  female  ...           0           1          0\n",
            "886         0       2    male  ...           0           0          1\n",
            "887         1       1  female  ...           0           0          1\n",
            "889         1       1    male  ...           1           0          0\n",
            "890         0       3    male  ...           0           1          0\n",
            "\n",
            "[712 rows x 16 columns]\n"
          ],
          "name": "stdout"
        }
      ]
    },
    {
      "cell_type": "markdown",
      "metadata": {
        "id": "MTGttUwlYpvA"
      },
      "source": [
        "2.3 Data Summary using the cleaned dataset from question 2.2.5. "
      ]
    },
    {
      "cell_type": "markdown",
      "metadata": {
        "id": "c1-iYDGp1W45"
      },
      "source": [
        "2.3.1 Print the descriptive statistics table"
      ]
    },
    {
      "cell_type": "code",
      "metadata": {
        "colab": {
          "base_uri": "https://localhost:8080/"
        },
        "id": "dljw_A0y1f0n",
        "outputId": "7f8b3af3-f28b-4bfc-bb8f-bac931d60c6d"
      },
      "source": [
        "# Use \"describe()\" function to see all statistics\r\n",
        "data = data_new.describe()\r\n",
        "print(data)"
      ],
      "execution_count": 50,
      "outputs": [
        {
          "output_type": "stream",
          "text": [
            "         Survived      Pclass         Age  ...  Embarked_C  Embarked_Q  Embarked_S\n",
            "count  712.000000  712.000000  712.000000  ...  712.000000  712.000000  712.000000\n",
            "mean     0.404494    2.240169   29.642093  ...    0.182584    0.039326    0.778090\n",
            "std      0.491139    0.836854   14.492933  ...    0.386597    0.194506    0.415823\n",
            "min      0.000000    1.000000    0.420000  ...    0.000000    0.000000    0.000000\n",
            "25%      0.000000    1.000000   20.000000  ...    0.000000    0.000000    1.000000\n",
            "50%      0.000000    2.000000   28.000000  ...    0.000000    0.000000    1.000000\n",
            "75%      1.000000    3.000000   38.000000  ...    0.000000    0.000000    1.000000\n",
            "max      1.000000    3.000000   80.000000  ...    1.000000    1.000000    1.000000\n",
            "\n",
            "[8 rows x 14 columns]\n"
          ],
          "name": "stdout"
        }
      ]
    },
    {
      "cell_type": "markdown",
      "metadata": {
        "id": "pB3mnc59YpvA"
      },
      "source": [
        "2.3.2 Print the correlation matrix using numerical variables. "
      ]
    },
    {
      "cell_type": "code",
      "metadata": {
        "colab": {
          "base_uri": "https://localhost:8080/"
        },
        "id": "s1GzcCg4wSUw",
        "outputId": "a526e7ec-d4fe-466e-eee9-d953d2b47d1f"
      },
      "source": [
        "# Print correlation matrix using numerical variables\r\n",
        "data = data_new[['Age', 'Fare']].corr()\r\n",
        "print(data)"
      ],
      "execution_count": 51,
      "outputs": [
        {
          "output_type": "stream",
          "text": [
            "           Age      Fare\n",
            "Age   1.000000  0.093143\n",
            "Fare  0.093143  1.000000\n"
          ],
          "name": "stdout"
        }
      ]
    },
    {
      "cell_type": "markdown",
      "metadata": {
        "id": "roZe5Bz_YpvB"
      },
      "source": [
        "2.3.3 Print the frequency table(s) for all categorical variables. (Note: the frequency table should include the label of each category and the number of observations in each category)"
      ]
    },
    {
      "cell_type": "code",
      "metadata": {
        "colab": {
          "base_uri": "https://localhost:8080/"
        },
        "id": "Xh4MI9NqzxLC",
        "outputId": "f2daed54-4c6f-4d60-8f3b-aae71b3f60c9"
      },
      "source": [
        "# Print the frequency table for the 'Survived' variable\r\n",
        "data = data_new['Survived'].value_counts()\r\n",
        "print(data)"
      ],
      "execution_count": 52,
      "outputs": [
        {
          "output_type": "stream",
          "text": [
            "0    424\n",
            "1    288\n",
            "Name: Survived, dtype: int64\n"
          ],
          "name": "stdout"
        }
      ]
    },
    {
      "cell_type": "code",
      "metadata": {
        "colab": {
          "base_uri": "https://localhost:8080/"
        },
        "id": "Ngxfcdy60rWi",
        "outputId": "15a5d4e3-aec0-4aec-b7bc-908a28beb7aa"
      },
      "source": [
        "# Print the frequency table for the 'Pclass' variable\r\n",
        "data = data_new['Pclass'].value_counts()\r\n",
        "print(data)"
      ],
      "execution_count": 53,
      "outputs": [
        {
          "output_type": "stream",
          "text": [
            "3    355\n",
            "1    184\n",
            "2    173\n",
            "Name: Pclass, dtype: int64\n"
          ],
          "name": "stdout"
        }
      ]
    },
    {
      "cell_type": "code",
      "metadata": {
        "colab": {
          "base_uri": "https://localhost:8080/"
        },
        "id": "Twb2kzjd0kPd",
        "outputId": "f6d02500-bcba-4d70-e2fb-89f5dcb24958"
      },
      "source": [
        "# Print the frequency table for the 'Sex' variable\r\n",
        "data = data_new['Sex'].value_counts()\r\n",
        "print(data)"
      ],
      "execution_count": 54,
      "outputs": [
        {
          "output_type": "stream",
          "text": [
            "male      453\n",
            "female    259\n",
            "Name: Sex, dtype: int64\n"
          ],
          "name": "stdout"
        }
      ]
    },
    {
      "cell_type": "code",
      "metadata": {
        "colab": {
          "base_uri": "https://localhost:8080/"
        },
        "id": "UyR9s5S-64z0",
        "outputId": "8185455a-984c-40c5-8982-2e2786991358"
      },
      "source": [
        "# Print the frequency table for the 'Embarked' variable\r\n",
        "data = data_new['Embarked'].value_counts()\r\n",
        "print(data)"
      ],
      "execution_count": 55,
      "outputs": [
        {
          "output_type": "stream",
          "text": [
            "S    554\n",
            "C    130\n",
            "Q     28\n",
            "Name: Embarked, dtype: int64\n"
          ],
          "name": "stdout"
        }
      ]
    },
    {
      "cell_type": "markdown",
      "metadata": {
        "id": "jYGtqcsdYpvB"
      },
      "source": [
        "-------------"
      ]
    },
    {
      "cell_type": "markdown",
      "metadata": {
        "id": "sXiojA93YpvB"
      },
      "source": [
        "#### Task 3: Essay on Problem Definition"
      ]
    },
    {
      "cell_type": "markdown",
      "metadata": {
        "id": "LIfi0K4BYpvB"
      },
      "source": [
        "Essay: Customer churn prediction in telecom companies using machine learning in big data platform\n",
        "\n",
        "\n",
        "3.1 Come up with a general business problem (for a firm or an industry)\n",
        "\n",
        "\n",
        "Churn quantifies the number of customers who have unsubscribed or canceled their service contract.\n",
        "\n",
        "The churn rate, also known as the rate of attrition or customer churn, is the rate at which customers stop doing business with an entity. It is most commonly expressed as the percentage of service subscribers who discontinue their subscriptions within a given time period. \n",
        "\n",
        "A high customer churn rate indicates that the companies are losing customers at an alarming rate, it directs effect on the revenues of the companies, especially in the telecom field, telecom companies are seeking to develop means to predict potential customer to churn.\n",
        "\n",
        "\n",
        "\n",
        "3.2 Break the business problem in to data science problems. You only need to list ONE data science problem.\n",
        "\n",
        "\n",
        "The problem of losing many customers, has the direct impact of decreased revenues, which affects telecom companies, so a good starting point would be to reduce customer churn by identifying potential churn candidates beforehand and taking proactive actions to make them stay.\n",
        "\n",
        "\n",
        "\n",
        "3.3 Please indicate whether it is a descriptive/predictive/prescriptive analysis, and which machine learning algorithm can be used to solve the problem (supervised or unsupervised)\n",
        "\n",
        "It uses a predictive analysis to predict if a customer will churn or not.\n",
        "\n",
        "Machine learning algorithm can be used to solve the problem is based on supervised learning."
      ]
    }
  ]
}